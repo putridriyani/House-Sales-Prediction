{
  "cells": [
    {
      "cell_type": "markdown",
      "metadata": {
        "id": "3kEHTI3MNTgk"
      },
      "source": [
        "Nama  : Putri Andriyani"
      ]
    },
    {
      "cell_type": "markdown",
      "metadata": {
        "id": "Mt6sT1Pqu9fX"
      },
      "source": [
        "##Import Library"
      ]
    },
    {
      "cell_type": "code",
      "execution_count": null,
      "metadata": {
        "id": "x5VVA7YvNeDP"
      },
      "outputs": [],
      "source": [
        "import pandas as pd\n",
        "import numpy as np\n",
        "from sklearn.linear_model import LinearRegression\n",
        "from sklearn.model_selection import train_test_split\n",
        "from sklearn.metrics import mean_squared_error\n",
        "import matplotlib.pyplot as plt\n",
        "import seaborn as sns\n",
        "from scipy import stats\n",
        "plt.style.use('dark_background')"
      ]
    },
    {
      "cell_type": "markdown",
      "metadata": {
        "id": "ndWm8wdevH2p"
      },
      "source": [
        "##Load Dataset"
      ]
    },
    {
      "cell_type": "code",
      "execution_count": null,
      "metadata": {
        "colab": {
          "base_uri": "https://localhost:8080/",
          "height": 71
        },
        "id": "_dGnp4XyQ4mN",
        "outputId": "c96cecae-0ad5-4cda-f40d-9460e22bd64a"
      },
      "outputs": [
        {
          "data": {
            "text/html": [
              "\n",
              "     <input type=\"file\" id=\"files-47622875-97e7-41f9-9636-a9edfb662763\" name=\"files[]\" multiple disabled\n",
              "        style=\"border:none\" />\n",
              "     <output id=\"result-47622875-97e7-41f9-9636-a9edfb662763\">\n",
              "      Upload widget is only available when the cell has been executed in the\n",
              "      current browser session. Please rerun this cell to enable.\n",
              "      </output>\n",
              "      <script>// Copyright 2017 Google LLC\n",
              "//\n",
              "// Licensed under the Apache License, Version 2.0 (the \"License\");\n",
              "// you may not use this file except in compliance with the License.\n",
              "// You may obtain a copy of the License at\n",
              "//\n",
              "//      http://www.apache.org/licenses/LICENSE-2.0\n",
              "//\n",
              "// Unless required by applicable law or agreed to in writing, software\n",
              "// distributed under the License is distributed on an \"AS IS\" BASIS,\n",
              "// WITHOUT WARRANTIES OR CONDITIONS OF ANY KIND, either express or implied.\n",
              "// See the License for the specific language governing permissions and\n",
              "// limitations under the License.\n",
              "\n",
              "/**\n",
              " * @fileoverview Helpers for google.colab Python module.\n",
              " */\n",
              "(function(scope) {\n",
              "function span(text, styleAttributes = {}) {\n",
              "  const element = document.createElement('span');\n",
              "  element.textContent = text;\n",
              "  for (const key of Object.keys(styleAttributes)) {\n",
              "    element.style[key] = styleAttributes[key];\n",
              "  }\n",
              "  return element;\n",
              "}\n",
              "\n",
              "// Max number of bytes which will be uploaded at a time.\n",
              "const MAX_PAYLOAD_SIZE = 100 * 1024;\n",
              "\n",
              "function _uploadFiles(inputId, outputId) {\n",
              "  const steps = uploadFilesStep(inputId, outputId);\n",
              "  const outputElement = document.getElementById(outputId);\n",
              "  // Cache steps on the outputElement to make it available for the next call\n",
              "  // to uploadFilesContinue from Python.\n",
              "  outputElement.steps = steps;\n",
              "\n",
              "  return _uploadFilesContinue(outputId);\n",
              "}\n",
              "\n",
              "// This is roughly an async generator (not supported in the browser yet),\n",
              "// where there are multiple asynchronous steps and the Python side is going\n",
              "// to poll for completion of each step.\n",
              "// This uses a Promise to block the python side on completion of each step,\n",
              "// then passes the result of the previous step as the input to the next step.\n",
              "function _uploadFilesContinue(outputId) {\n",
              "  const outputElement = document.getElementById(outputId);\n",
              "  const steps = outputElement.steps;\n",
              "\n",
              "  const next = steps.next(outputElement.lastPromiseValue);\n",
              "  return Promise.resolve(next.value.promise).then((value) => {\n",
              "    // Cache the last promise value to make it available to the next\n",
              "    // step of the generator.\n",
              "    outputElement.lastPromiseValue = value;\n",
              "    return next.value.response;\n",
              "  });\n",
              "}\n",
              "\n",
              "/**\n",
              " * Generator function which is called between each async step of the upload\n",
              " * process.\n",
              " * @param {string} inputId Element ID of the input file picker element.\n",
              " * @param {string} outputId Element ID of the output display.\n",
              " * @return {!Iterable<!Object>} Iterable of next steps.\n",
              " */\n",
              "function* uploadFilesStep(inputId, outputId) {\n",
              "  const inputElement = document.getElementById(inputId);\n",
              "  inputElement.disabled = false;\n",
              "\n",
              "  const outputElement = document.getElementById(outputId);\n",
              "  outputElement.innerHTML = '';\n",
              "\n",
              "  const pickedPromise = new Promise((resolve) => {\n",
              "    inputElement.addEventListener('change', (e) => {\n",
              "      resolve(e.target.files);\n",
              "    });\n",
              "  });\n",
              "\n",
              "  const cancel = document.createElement('button');\n",
              "  inputElement.parentElement.appendChild(cancel);\n",
              "  cancel.textContent = 'Cancel upload';\n",
              "  const cancelPromise = new Promise((resolve) => {\n",
              "    cancel.onclick = () => {\n",
              "      resolve(null);\n",
              "    };\n",
              "  });\n",
              "\n",
              "  // Wait for the user to pick the files.\n",
              "  const files = yield {\n",
              "    promise: Promise.race([pickedPromise, cancelPromise]),\n",
              "    response: {\n",
              "      action: 'starting',\n",
              "    }\n",
              "  };\n",
              "\n",
              "  cancel.remove();\n",
              "\n",
              "  // Disable the input element since further picks are not allowed.\n",
              "  inputElement.disabled = true;\n",
              "\n",
              "  if (!files) {\n",
              "    return {\n",
              "      response: {\n",
              "        action: 'complete',\n",
              "      }\n",
              "    };\n",
              "  }\n",
              "\n",
              "  for (const file of files) {\n",
              "    const li = document.createElement('li');\n",
              "    li.append(span(file.name, {fontWeight: 'bold'}));\n",
              "    li.append(span(\n",
              "        `(${file.type || 'n/a'}) - ${file.size} bytes, ` +\n",
              "        `last modified: ${\n",
              "            file.lastModifiedDate ? file.lastModifiedDate.toLocaleDateString() :\n",
              "                                    'n/a'} - `));\n",
              "    const percent = span('0% done');\n",
              "    li.appendChild(percent);\n",
              "\n",
              "    outputElement.appendChild(li);\n",
              "\n",
              "    const fileDataPromise = new Promise((resolve) => {\n",
              "      const reader = new FileReader();\n",
              "      reader.onload = (e) => {\n",
              "        resolve(e.target.result);\n",
              "      };\n",
              "      reader.readAsArrayBuffer(file);\n",
              "    });\n",
              "    // Wait for the data to be ready.\n",
              "    let fileData = yield {\n",
              "      promise: fileDataPromise,\n",
              "      response: {\n",
              "        action: 'continue',\n",
              "      }\n",
              "    };\n",
              "\n",
              "    // Use a chunked sending to avoid message size limits. See b/62115660.\n",
              "    let position = 0;\n",
              "    do {\n",
              "      const length = Math.min(fileData.byteLength - position, MAX_PAYLOAD_SIZE);\n",
              "      const chunk = new Uint8Array(fileData, position, length);\n",
              "      position += length;\n",
              "\n",
              "      const base64 = btoa(String.fromCharCode.apply(null, chunk));\n",
              "      yield {\n",
              "        response: {\n",
              "          action: 'append',\n",
              "          file: file.name,\n",
              "          data: base64,\n",
              "        },\n",
              "      };\n",
              "\n",
              "      let percentDone = fileData.byteLength === 0 ?\n",
              "          100 :\n",
              "          Math.round((position / fileData.byteLength) * 100);\n",
              "      percent.textContent = `${percentDone}% done`;\n",
              "\n",
              "    } while (position < fileData.byteLength);\n",
              "  }\n",
              "\n",
              "  // All done.\n",
              "  yield {\n",
              "    response: {\n",
              "      action: 'complete',\n",
              "    }\n",
              "  };\n",
              "}\n",
              "\n",
              "scope.google = scope.google || {};\n",
              "scope.google.colab = scope.google.colab || {};\n",
              "scope.google.colab._files = {\n",
              "  _uploadFiles,\n",
              "  _uploadFilesContinue,\n",
              "};\n",
              "})(self);\n",
              "</script> "
            ],
            "text/plain": [
              "<IPython.core.display.HTML object>"
            ]
          },
          "metadata": {},
          "output_type": "display_data"
        },
        {
          "name": "stdout",
          "output_type": "stream",
          "text": [
            "Saving Harga_Rumah.xlsx to Harga_Rumah (2).xlsx\n"
          ]
        }
      ],
      "source": [
        "# Masukkan dataset-dataset anda kedalam program\n",
        "from google.colab import files\n",
        "uploaded = files.upload()"
      ]
    },
    {
      "cell_type": "code",
      "execution_count": null,
      "metadata": {
        "colab": {
          "base_uri": "https://localhost:8080/",
          "height": 206
        },
        "id": "YXbxx6mgRTiS",
        "outputId": "9c5491df-a8be-4a31-9610-4f9606751320"
      },
      "outputs": [
        {
          "data": {
            "text/html": [
              "\n",
              "  <div id=\"df-33476141-03b1-4d7c-bd59-7d97ab42a293\">\n",
              "    <div class=\"colab-df-container\">\n",
              "      <div>\n",
              "<style scoped>\n",
              "    .dataframe tbody tr th:only-of-type {\n",
              "        vertical-align: middle;\n",
              "    }\n",
              "\n",
              "    .dataframe tbody tr th {\n",
              "        vertical-align: top;\n",
              "    }\n",
              "\n",
              "    .dataframe thead th {\n",
              "        text-align: right;\n",
              "    }\n",
              "</style>\n",
              "<table border=\"1\" class=\"dataframe\">\n",
              "  <thead>\n",
              "    <tr style=\"text-align: right;\">\n",
              "      <th></th>\n",
              "      <th>HARGA</th>\n",
              "      <th>LT</th>\n",
              "      <th>LB</th>\n",
              "      <th>JKT</th>\n",
              "      <th>JKM</th>\n",
              "      <th>GRS</th>\n",
              "      <th>KOTA</th>\n",
              "    </tr>\n",
              "  </thead>\n",
              "  <tbody>\n",
              "    <tr>\n",
              "      <th>0</th>\n",
              "      <td>28000000000</td>\n",
              "      <td>1100</td>\n",
              "      <td>700</td>\n",
              "      <td>5</td>\n",
              "      <td>6</td>\n",
              "      <td>ADA</td>\n",
              "      <td>JAKSEL</td>\n",
              "    </tr>\n",
              "    <tr>\n",
              "      <th>1</th>\n",
              "      <td>19000000000</td>\n",
              "      <td>824</td>\n",
              "      <td>800</td>\n",
              "      <td>4</td>\n",
              "      <td>4</td>\n",
              "      <td>ADA</td>\n",
              "      <td>JAKSEL</td>\n",
              "    </tr>\n",
              "    <tr>\n",
              "      <th>2</th>\n",
              "      <td>4700000000</td>\n",
              "      <td>500</td>\n",
              "      <td>400</td>\n",
              "      <td>4</td>\n",
              "      <td>3</td>\n",
              "      <td>ADA</td>\n",
              "      <td>JAKSEL</td>\n",
              "    </tr>\n",
              "    <tr>\n",
              "      <th>3</th>\n",
              "      <td>4900000000</td>\n",
              "      <td>251</td>\n",
              "      <td>300</td>\n",
              "      <td>5</td>\n",
              "      <td>4</td>\n",
              "      <td>ADA</td>\n",
              "      <td>JAKSEL</td>\n",
              "    </tr>\n",
              "    <tr>\n",
              "      <th>4</th>\n",
              "      <td>28000000000</td>\n",
              "      <td>1340</td>\n",
              "      <td>575</td>\n",
              "      <td>4</td>\n",
              "      <td>5</td>\n",
              "      <td>ADA</td>\n",
              "      <td>JAKSEL</td>\n",
              "    </tr>\n",
              "  </tbody>\n",
              "</table>\n",
              "</div>\n",
              "      <button class=\"colab-df-convert\" onclick=\"convertToInteractive('df-33476141-03b1-4d7c-bd59-7d97ab42a293')\"\n",
              "              title=\"Convert this dataframe to an interactive table.\"\n",
              "              style=\"display:none;\">\n",
              "        \n",
              "  <svg xmlns=\"http://www.w3.org/2000/svg\" height=\"24px\"viewBox=\"0 0 24 24\"\n",
              "       width=\"24px\">\n",
              "    <path d=\"M0 0h24v24H0V0z\" fill=\"none\"/>\n",
              "    <path d=\"M18.56 5.44l.94 2.06.94-2.06 2.06-.94-2.06-.94-.94-2.06-.94 2.06-2.06.94zm-11 1L8.5 8.5l.94-2.06 2.06-.94-2.06-.94L8.5 2.5l-.94 2.06-2.06.94zm10 10l.94 2.06.94-2.06 2.06-.94-2.06-.94-.94-2.06-.94 2.06-2.06.94z\"/><path d=\"M17.41 7.96l-1.37-1.37c-.4-.4-.92-.59-1.43-.59-.52 0-1.04.2-1.43.59L10.3 9.45l-7.72 7.72c-.78.78-.78 2.05 0 2.83L4 21.41c.39.39.9.59 1.41.59.51 0 1.02-.2 1.41-.59l7.78-7.78 2.81-2.81c.8-.78.8-2.07 0-2.86zM5.41 20L4 18.59l7.72-7.72 1.47 1.35L5.41 20z\"/>\n",
              "  </svg>\n",
              "      </button>\n",
              "      \n",
              "  <style>\n",
              "    .colab-df-container {\n",
              "      display:flex;\n",
              "      flex-wrap:wrap;\n",
              "      gap: 12px;\n",
              "    }\n",
              "\n",
              "    .colab-df-convert {\n",
              "      background-color: #E8F0FE;\n",
              "      border: none;\n",
              "      border-radius: 50%;\n",
              "      cursor: pointer;\n",
              "      display: none;\n",
              "      fill: #1967D2;\n",
              "      height: 32px;\n",
              "      padding: 0 0 0 0;\n",
              "      width: 32px;\n",
              "    }\n",
              "\n",
              "    .colab-df-convert:hover {\n",
              "      background-color: #E2EBFA;\n",
              "      box-shadow: 0px 1px 2px rgba(60, 64, 67, 0.3), 0px 1px 3px 1px rgba(60, 64, 67, 0.15);\n",
              "      fill: #174EA6;\n",
              "    }\n",
              "\n",
              "    [theme=dark] .colab-df-convert {\n",
              "      background-color: #3B4455;\n",
              "      fill: #D2E3FC;\n",
              "    }\n",
              "\n",
              "    [theme=dark] .colab-df-convert:hover {\n",
              "      background-color: #434B5C;\n",
              "      box-shadow: 0px 1px 3px 1px rgba(0, 0, 0, 0.15);\n",
              "      filter: drop-shadow(0px 1px 2px rgba(0, 0, 0, 0.3));\n",
              "      fill: #FFFFFF;\n",
              "    }\n",
              "  </style>\n",
              "\n",
              "      <script>\n",
              "        const buttonEl =\n",
              "          document.querySelector('#df-33476141-03b1-4d7c-bd59-7d97ab42a293 button.colab-df-convert');\n",
              "        buttonEl.style.display =\n",
              "          google.colab.kernel.accessAllowed ? 'block' : 'none';\n",
              "\n",
              "        async function convertToInteractive(key) {\n",
              "          const element = document.querySelector('#df-33476141-03b1-4d7c-bd59-7d97ab42a293');\n",
              "          const dataTable =\n",
              "            await google.colab.kernel.invokeFunction('convertToInteractive',\n",
              "                                                     [key], {});\n",
              "          if (!dataTable) return;\n",
              "\n",
              "          const docLinkHtml = 'Like what you see? Visit the ' +\n",
              "            '<a target=\"_blank\" href=https://colab.research.google.com/notebooks/data_table.ipynb>data table notebook</a>'\n",
              "            + ' to learn more about interactive tables.';\n",
              "          element.innerHTML = '';\n",
              "          dataTable['output_type'] = 'display_data';\n",
              "          await google.colab.output.renderOutput(dataTable, element);\n",
              "          const docLink = document.createElement('div');\n",
              "          docLink.innerHTML = docLinkHtml;\n",
              "          element.appendChild(docLink);\n",
              "        }\n",
              "      </script>\n",
              "    </div>\n",
              "  </div>\n",
              "  "
            ],
            "text/plain": [
              "         HARGA    LT   LB  JKT  JKM  GRS    KOTA\n",
              "0  28000000000  1100  700    5    6  ADA  JAKSEL\n",
              "1  19000000000   824  800    4    4  ADA  JAKSEL\n",
              "2   4700000000   500  400    4    3  ADA  JAKSEL\n",
              "3   4900000000   251  300    5    4  ADA  JAKSEL\n",
              "4  28000000000  1340  575    4    5  ADA  JAKSEL"
            ]
          },
          "execution_count": 9,
          "metadata": {},
          "output_type": "execute_result"
        }
      ],
      "source": [
        "import io\n",
        "df = pd.read_excel(io.BytesIO(uploaded['Harga_Rumah.xlsx']))\n",
        "# Dataset is now stored in a Pandas Dataframe\n",
        "df.head()"
      ]
    },
    {
      "cell_type": "markdown",
      "metadata": {
        "id": "-vkXTsMavNWT"
      },
      "source": [
        "##Data Prepocessing"
      ]
    },
    {
      "cell_type": "code",
      "execution_count": null,
      "metadata": {
        "colab": {
          "base_uri": "https://localhost:8080/"
        },
        "id": "2dqfiqskRceI",
        "outputId": "f8a4a608-1b87-4b7c-962b-432f84e7e897"
      },
      "outputs": [
        {
          "name": "stdout",
          "output_type": "stream",
          "text": [
            "Tipe data pada setiap kolom:\n",
            "<class 'pandas.core.frame.DataFrame'>\n",
            "RangeIndex: 1001 entries, 0 to 1000\n",
            "Data columns (total 7 columns):\n",
            " #   Column  Non-Null Count  Dtype \n",
            "---  ------  --------------  ----- \n",
            " 0   HARGA   1001 non-null   int64 \n",
            " 1   LT      1001 non-null   int64 \n",
            " 2   LB      1001 non-null   int64 \n",
            " 3   JKT     1001 non-null   int64 \n",
            " 4   JKM     1001 non-null   int64 \n",
            " 5   GRS     1001 non-null   object\n",
            " 6   KOTA    1001 non-null   object\n",
            "dtypes: int64(5), object(2)\n",
            "memory usage: 54.9+ KB\n"
          ]
        }
      ],
      "source": [
        "# Cek tipe data pada setiap kolom\n",
        "print(\"Tipe data pada setiap kolom:\")\n",
        "df.info()"
      ]
    },
    {
      "cell_type": "code",
      "execution_count": null,
      "metadata": {
        "id": "reoyi77jSBvl"
      },
      "outputs": [],
      "source": [
        "#menghapus beberapa kolom\n",
        "df = df.drop(['LB', 'JKM', 'GRS','KOTA'], axis=1)"
      ]
    },
    {
      "cell_type": "code",
      "execution_count": null,
      "metadata": {
        "colab": {
          "base_uri": "https://localhost:8080/"
        },
        "id": "KfoWCJK3SXUU",
        "outputId": "8164ffe5-b3e9-4318-b9db-026263526088"
      },
      "outputs": [
        {
          "name": "stdout",
          "output_type": "stream",
          "text": [
            "<class 'pandas.core.frame.DataFrame'>\n",
            "RangeIndex: 1001 entries, 0 to 1000\n",
            "Data columns (total 3 columns):\n",
            " #   Column  Non-Null Count  Dtype\n",
            "---  ------  --------------  -----\n",
            " 0   HARGA   1001 non-null   int64\n",
            " 1   LT      1001 non-null   int64\n",
            " 2   JKT     1001 non-null   int64\n",
            "dtypes: int64(3)\n",
            "memory usage: 23.6 KB\n"
          ]
        }
      ],
      "source": [
        "df.info() #kolom-kolom setelah dihapus sebagian"
      ]
    },
    {
      "cell_type": "code",
      "execution_count": null,
      "metadata": {
        "colab": {
          "base_uri": "https://localhost:8080/"
        },
        "id": "rGtdf5JoS-uC",
        "outputId": "23b3f09a-2d2b-4124-939b-be926c08a10b"
      },
      "outputs": [
        {
          "name": "stdout",
          "output_type": "stream",
          "text": [
            "Data sebelum dihapus nilai null:\n",
            "HARGA    0\n",
            "LT       0\n",
            "JKT      0\n",
            "dtype: int64\n"
          ]
        }
      ],
      "source": [
        "# mengecek baris yang terdapat kolom kosong\n",
        "print(\"Data sebelum dihapus nilai null:\")\n",
        "print(df.isnull().sum()) # jumlah nilai null pada setiap kolom"
      ]
    },
    {
      "cell_type": "code",
      "execution_count": null,
      "metadata": {
        "colab": {
          "base_uri": "https://localhost:8080/"
        },
        "id": "ccJ1tk-sTIfC",
        "outputId": "db3d9605-eec2-435e-a26b-f6b6acb1b85b"
      },
      "outputs": [
        {
          "name": "stdout",
          "output_type": "stream",
          "text": [
            "Data sebelum dihapus nilai duplikat:\n",
            "127\n"
          ]
        }
      ],
      "source": [
        "# mengecek data duplikat/tidak\n",
        "print(\"Data sebelum dihapus nilai duplikat:\")\n",
        "print(df.duplicated().sum()) # jumlah data duplikat"
      ]
    },
    {
      "cell_type": "code",
      "execution_count": null,
      "metadata": {
        "id": "masQKQYpUpuh"
      },
      "outputs": [],
      "source": [
        "df = df.drop_duplicates(subset=['HARGA', 'LT', 'JKT'], keep='first')"
      ]
    },
    {
      "cell_type": "code",
      "execution_count": null,
      "metadata": {
        "colab": {
          "base_uri": "https://localhost:8080/"
        },
        "id": "92nPFsM0Uymd",
        "outputId": "5392b955-304a-42bb-9720-8e7619f5fd2b"
      },
      "outputs": [
        {
          "name": "stdout",
          "output_type": "stream",
          "text": [
            "Data setelah dihapus nilai duplikat:\n",
            "0\n"
          ]
        }
      ],
      "source": [
        "# mengecek data duplikat/tidak\n",
        "print(\"Data setelah dihapus nilai duplikat:\")\n",
        "print(df.duplicated().sum()) # jumlah data duplikat"
      ]
    },
    {
      "cell_type": "code",
      "execution_count": null,
      "metadata": {
        "colab": {
          "base_uri": "https://localhost:8080/",
          "height": 424
        },
        "id": "delOCe0PVn24",
        "outputId": "5b25246f-aa2d-4c50-e30f-b0eb2a0875f6"
      },
      "outputs": [
        {
          "data": {
            "text/html": [
              "\n",
              "  <div id=\"df-96c41bdd-6389-4f55-8684-4a5d870f2093\">\n",
              "    <div class=\"colab-df-container\">\n",
              "      <div>\n",
              "<style scoped>\n",
              "    .dataframe tbody tr th:only-of-type {\n",
              "        vertical-align: middle;\n",
              "    }\n",
              "\n",
              "    .dataframe tbody tr th {\n",
              "        vertical-align: top;\n",
              "    }\n",
              "\n",
              "    .dataframe thead th {\n",
              "        text-align: right;\n",
              "    }\n",
              "</style>\n",
              "<table border=\"1\" class=\"dataframe\">\n",
              "  <thead>\n",
              "    <tr style=\"text-align: right;\">\n",
              "      <th></th>\n",
              "      <th>HARGA</th>\n",
              "      <th>LT</th>\n",
              "      <th>JKT</th>\n",
              "    </tr>\n",
              "  </thead>\n",
              "  <tbody>\n",
              "    <tr>\n",
              "      <th>0</th>\n",
              "      <td>28000000000</td>\n",
              "      <td>1100</td>\n",
              "      <td>5</td>\n",
              "    </tr>\n",
              "    <tr>\n",
              "      <th>1</th>\n",
              "      <td>19000000000</td>\n",
              "      <td>824</td>\n",
              "      <td>4</td>\n",
              "    </tr>\n",
              "    <tr>\n",
              "      <th>2</th>\n",
              "      <td>4700000000</td>\n",
              "      <td>500</td>\n",
              "      <td>4</td>\n",
              "    </tr>\n",
              "    <tr>\n",
              "      <th>3</th>\n",
              "      <td>4900000000</td>\n",
              "      <td>251</td>\n",
              "      <td>5</td>\n",
              "    </tr>\n",
              "    <tr>\n",
              "      <th>4</th>\n",
              "      <td>28000000000</td>\n",
              "      <td>1340</td>\n",
              "      <td>4</td>\n",
              "    </tr>\n",
              "    <tr>\n",
              "      <th>...</th>\n",
              "      <td>...</td>\n",
              "      <td>...</td>\n",
              "      <td>...</td>\n",
              "    </tr>\n",
              "    <tr>\n",
              "      <th>996</th>\n",
              "      <td>16000000000</td>\n",
              "      <td>488</td>\n",
              "      <td>6</td>\n",
              "    </tr>\n",
              "    <tr>\n",
              "      <th>997</th>\n",
              "      <td>4500000000</td>\n",
              "      <td>209</td>\n",
              "      <td>4</td>\n",
              "    </tr>\n",
              "    <tr>\n",
              "      <th>998</th>\n",
              "      <td>29000000000</td>\n",
              "      <td>692</td>\n",
              "      <td>4</td>\n",
              "    </tr>\n",
              "    <tr>\n",
              "      <th>999</th>\n",
              "      <td>1700000000</td>\n",
              "      <td>102</td>\n",
              "      <td>4</td>\n",
              "    </tr>\n",
              "    <tr>\n",
              "      <th>1000</th>\n",
              "      <td>1250000000</td>\n",
              "      <td>63</td>\n",
              "      <td>3</td>\n",
              "    </tr>\n",
              "  </tbody>\n",
              "</table>\n",
              "<p>874 rows × 3 columns</p>\n",
              "</div>\n",
              "      <button class=\"colab-df-convert\" onclick=\"convertToInteractive('df-96c41bdd-6389-4f55-8684-4a5d870f2093')\"\n",
              "              title=\"Convert this dataframe to an interactive table.\"\n",
              "              style=\"display:none;\">\n",
              "        \n",
              "  <svg xmlns=\"http://www.w3.org/2000/svg\" height=\"24px\"viewBox=\"0 0 24 24\"\n",
              "       width=\"24px\">\n",
              "    <path d=\"M0 0h24v24H0V0z\" fill=\"none\"/>\n",
              "    <path d=\"M18.56 5.44l.94 2.06.94-2.06 2.06-.94-2.06-.94-.94-2.06-.94 2.06-2.06.94zm-11 1L8.5 8.5l.94-2.06 2.06-.94-2.06-.94L8.5 2.5l-.94 2.06-2.06.94zm10 10l.94 2.06.94-2.06 2.06-.94-2.06-.94-.94-2.06-.94 2.06-2.06.94z\"/><path d=\"M17.41 7.96l-1.37-1.37c-.4-.4-.92-.59-1.43-.59-.52 0-1.04.2-1.43.59L10.3 9.45l-7.72 7.72c-.78.78-.78 2.05 0 2.83L4 21.41c.39.39.9.59 1.41.59.51 0 1.02-.2 1.41-.59l7.78-7.78 2.81-2.81c.8-.78.8-2.07 0-2.86zM5.41 20L4 18.59l7.72-7.72 1.47 1.35L5.41 20z\"/>\n",
              "  </svg>\n",
              "      </button>\n",
              "      \n",
              "  <style>\n",
              "    .colab-df-container {\n",
              "      display:flex;\n",
              "      flex-wrap:wrap;\n",
              "      gap: 12px;\n",
              "    }\n",
              "\n",
              "    .colab-df-convert {\n",
              "      background-color: #E8F0FE;\n",
              "      border: none;\n",
              "      border-radius: 50%;\n",
              "      cursor: pointer;\n",
              "      display: none;\n",
              "      fill: #1967D2;\n",
              "      height: 32px;\n",
              "      padding: 0 0 0 0;\n",
              "      width: 32px;\n",
              "    }\n",
              "\n",
              "    .colab-df-convert:hover {\n",
              "      background-color: #E2EBFA;\n",
              "      box-shadow: 0px 1px 2px rgba(60, 64, 67, 0.3), 0px 1px 3px 1px rgba(60, 64, 67, 0.15);\n",
              "      fill: #174EA6;\n",
              "    }\n",
              "\n",
              "    [theme=dark] .colab-df-convert {\n",
              "      background-color: #3B4455;\n",
              "      fill: #D2E3FC;\n",
              "    }\n",
              "\n",
              "    [theme=dark] .colab-df-convert:hover {\n",
              "      background-color: #434B5C;\n",
              "      box-shadow: 0px 1px 3px 1px rgba(0, 0, 0, 0.15);\n",
              "      filter: drop-shadow(0px 1px 2px rgba(0, 0, 0, 0.3));\n",
              "      fill: #FFFFFF;\n",
              "    }\n",
              "  </style>\n",
              "\n",
              "      <script>\n",
              "        const buttonEl =\n",
              "          document.querySelector('#df-96c41bdd-6389-4f55-8684-4a5d870f2093 button.colab-df-convert');\n",
              "        buttonEl.style.display =\n",
              "          google.colab.kernel.accessAllowed ? 'block' : 'none';\n",
              "\n",
              "        async function convertToInteractive(key) {\n",
              "          const element = document.querySelector('#df-96c41bdd-6389-4f55-8684-4a5d870f2093');\n",
              "          const dataTable =\n",
              "            await google.colab.kernel.invokeFunction('convertToInteractive',\n",
              "                                                     [key], {});\n",
              "          if (!dataTable) return;\n",
              "\n",
              "          const docLinkHtml = 'Like what you see? Visit the ' +\n",
              "            '<a target=\"_blank\" href=https://colab.research.google.com/notebooks/data_table.ipynb>data table notebook</a>'\n",
              "            + ' to learn more about interactive tables.';\n",
              "          element.innerHTML = '';\n",
              "          dataTable['output_type'] = 'display_data';\n",
              "          await google.colab.output.renderOutput(dataTable, element);\n",
              "          const docLink = document.createElement('div');\n",
              "          docLink.innerHTML = docLinkHtml;\n",
              "          element.appendChild(docLink);\n",
              "        }\n",
              "      </script>\n",
              "    </div>\n",
              "  </div>\n",
              "  "
            ],
            "text/plain": [
              "            HARGA    LT  JKT\n",
              "0     28000000000  1100    5\n",
              "1     19000000000   824    4\n",
              "2      4700000000   500    4\n",
              "3      4900000000   251    5\n",
              "4     28000000000  1340    4\n",
              "...           ...   ...  ...\n",
              "996   16000000000   488    6\n",
              "997    4500000000   209    4\n",
              "998   29000000000   692    4\n",
              "999    1700000000   102    4\n",
              "1000   1250000000    63    3\n",
              "\n",
              "[874 rows x 3 columns]"
            ]
          },
          "execution_count": 17,
          "metadata": {},
          "output_type": "execute_result"
        }
      ],
      "source": [
        "df"
      ]
    },
    {
      "cell_type": "code",
      "execution_count": null,
      "metadata": {
        "colab": {
          "base_uri": "https://localhost:8080/"
        },
        "id": "1DVCfxQnWF7i",
        "outputId": "15e377fd-66da-42e8-e835-c124bc99ea85"
      },
      "outputs": [
        {
          "name": "stdout",
          "output_type": "stream",
          "text": [
            "Outlier values:\n",
            "Series([], Name: JKT, dtype: int64)\n"
          ]
        }
      ],
      "source": [
        "#cek data KT berada di range yang masuk akal (tidak negatif)\n",
        "outlier = df[(df['JKT'] < 0)]['JKT']\n",
        "print('Outlier values:')\n",
        "print(outlier)"
      ]
    },
    {
      "cell_type": "code",
      "execution_count": null,
      "metadata": {
        "id": "C5Kqj8RV8orj"
      },
      "outputs": [],
      "source": [
        "descriptive_stats = df[['HARGA', 'LT', 'JKT']].describe() # Menggunakan metode describe() untuk mendapatkan statistik deskriptif dari kolom-kolom yang relevan\n",
        "Q1 = descriptive_stats.loc['25%'] # Menghitung batas atas dan batas bawah untuk menentukan outlier menggunakan metode interquartile range (IQR)\n",
        "Q3 = descriptive_stats.loc['75%']\n",
        "IQR = Q3 - Q1\n",
        "lower_bound = Q1 - 1.5 * IQR\n",
        "upper_bound = Q3 + 1.5 * IQR\n",
        "outliers = df[                              # Mengidentifikasi outlier dalam setiap kolom dengan membandingkan nilainya dengan batas atas dan batas bawah yang dihitung sebelumnya\n",
        "    (df['HARGA'] < lower_bound['HARGA']) |\n",
        "    (df['HARGA'] > upper_bound['HARGA']) |\n",
        "    (df['LT'] < lower_bound['LT']) |\n",
        "    (df['LT'] > upper_bound['LT']) |\n",
        "    (df['JKT'] < lower_bound['JKT']) |\n",
        "    (df['JKT'] > upper_bound['JKT'])\n",
        "]"
      ]
    },
    {
      "cell_type": "code",
      "execution_count": null,
      "metadata": {
        "colab": {
          "base_uri": "https://localhost:8080/"
        },
        "id": "O_Dp6Tw59XM8",
        "outputId": "5f38478b-95a9-4035-b995-3fa62cae206d"
      },
      "outputs": [
        {
          "name": "stdout",
          "output_type": "stream",
          "text": [
            "           HARGA    LT  JKT\n",
            "9      480000000    66    2\n",
            "11    4200000000   109    2\n",
            "22   40000000000  1500    4\n",
            "31   68000000000   470    5\n",
            "33   85000000000   770    4\n",
            "..           ...   ...  ...\n",
            "975  20000000000   292   27\n",
            "976  77500000000  1148    8\n",
            "982   6750000000   200    2\n",
            "988  85000000000  1180    5\n",
            "989  65000000000   472    5\n",
            "\n",
            "[134 rows x 3 columns]\n"
          ]
        }
      ],
      "source": [
        "print(outliers) # Menampilkan outlier yang teridentifikasi"
      ]
    },
    {
      "cell_type": "markdown",
      "metadata": {
        "id": "P6vr7uFL-b8N"
      },
      "source": [
        "Data-data teridentifikasi di atas saya putuskan untuk tetap saya ikutkan untuk analisis dan perhitungan ke depannya. Alasan saya tidak menghapus kolom tersebut adalah karena meskipun kolom tersebut adalah nilai yang outlier namun merupakan data yang masuk akal."
      ]
    },
    {
      "cell_type": "code",
      "execution_count": null,
      "metadata": {
        "colab": {
          "base_uri": "https://localhost:8080/",
          "height": 300
        },
        "id": "ta9jqRPXWgg6",
        "outputId": "50808283-71d1-415e-c5a4-18318622f922"
      },
      "outputs": [
        {
          "data": {
            "text/html": [
              "\n",
              "  <div id=\"df-59267616-5903-4d01-a712-1a2c70afabbc\">\n",
              "    <div class=\"colab-df-container\">\n",
              "      <div>\n",
              "<style scoped>\n",
              "    .dataframe tbody tr th:only-of-type {\n",
              "        vertical-align: middle;\n",
              "    }\n",
              "\n",
              "    .dataframe tbody tr th {\n",
              "        vertical-align: top;\n",
              "    }\n",
              "\n",
              "    .dataframe thead th {\n",
              "        text-align: right;\n",
              "    }\n",
              "</style>\n",
              "<table border=\"1\" class=\"dataframe\">\n",
              "  <thead>\n",
              "    <tr style=\"text-align: right;\">\n",
              "      <th></th>\n",
              "      <th>HARGA</th>\n",
              "      <th>LT</th>\n",
              "      <th>JKT</th>\n",
              "    </tr>\n",
              "  </thead>\n",
              "  <tbody>\n",
              "    <tr>\n",
              "      <th>count</th>\n",
              "      <td>8.740000e+02</td>\n",
              "      <td>874.000000</td>\n",
              "      <td>874.000000</td>\n",
              "    </tr>\n",
              "    <tr>\n",
              "      <th>mean</th>\n",
              "      <td>1.763365e+10</td>\n",
              "      <td>538.526316</td>\n",
              "      <td>4.491991</td>\n",
              "    </tr>\n",
              "    <tr>\n",
              "      <th>std</th>\n",
              "      <td>2.178183e+10</td>\n",
              "      <td>556.316887</td>\n",
              "      <td>2.116440</td>\n",
              "    </tr>\n",
              "    <tr>\n",
              "      <th>min</th>\n",
              "      <td>4.300000e+08</td>\n",
              "      <td>22.000000</td>\n",
              "      <td>1.000000</td>\n",
              "    </tr>\n",
              "    <tr>\n",
              "      <th>25%</th>\n",
              "      <td>6.500000e+09</td>\n",
              "      <td>214.250000</td>\n",
              "      <td>4.000000</td>\n",
              "    </tr>\n",
              "    <tr>\n",
              "      <th>50%</th>\n",
              "      <td>1.294500e+10</td>\n",
              "      <td>400.000000</td>\n",
              "      <td>4.000000</td>\n",
              "    </tr>\n",
              "    <tr>\n",
              "      <th>75%</th>\n",
              "      <td>2.000000e+10</td>\n",
              "      <td>690.250000</td>\n",
              "      <td>5.000000</td>\n",
              "    </tr>\n",
              "    <tr>\n",
              "      <th>max</th>\n",
              "      <td>2.500000e+11</td>\n",
              "      <td>6790.000000</td>\n",
              "      <td>27.000000</td>\n",
              "    </tr>\n",
              "  </tbody>\n",
              "</table>\n",
              "</div>\n",
              "      <button class=\"colab-df-convert\" onclick=\"convertToInteractive('df-59267616-5903-4d01-a712-1a2c70afabbc')\"\n",
              "              title=\"Convert this dataframe to an interactive table.\"\n",
              "              style=\"display:none;\">\n",
              "        \n",
              "  <svg xmlns=\"http://www.w3.org/2000/svg\" height=\"24px\"viewBox=\"0 0 24 24\"\n",
              "       width=\"24px\">\n",
              "    <path d=\"M0 0h24v24H0V0z\" fill=\"none\"/>\n",
              "    <path d=\"M18.56 5.44l.94 2.06.94-2.06 2.06-.94-2.06-.94-.94-2.06-.94 2.06-2.06.94zm-11 1L8.5 8.5l.94-2.06 2.06-.94-2.06-.94L8.5 2.5l-.94 2.06-2.06.94zm10 10l.94 2.06.94-2.06 2.06-.94-2.06-.94-.94-2.06-.94 2.06-2.06.94z\"/><path d=\"M17.41 7.96l-1.37-1.37c-.4-.4-.92-.59-1.43-.59-.52 0-1.04.2-1.43.59L10.3 9.45l-7.72 7.72c-.78.78-.78 2.05 0 2.83L4 21.41c.39.39.9.59 1.41.59.51 0 1.02-.2 1.41-.59l7.78-7.78 2.81-2.81c.8-.78.8-2.07 0-2.86zM5.41 20L4 18.59l7.72-7.72 1.47 1.35L5.41 20z\"/>\n",
              "  </svg>\n",
              "      </button>\n",
              "      \n",
              "  <style>\n",
              "    .colab-df-container {\n",
              "      display:flex;\n",
              "      flex-wrap:wrap;\n",
              "      gap: 12px;\n",
              "    }\n",
              "\n",
              "    .colab-df-convert {\n",
              "      background-color: #E8F0FE;\n",
              "      border: none;\n",
              "      border-radius: 50%;\n",
              "      cursor: pointer;\n",
              "      display: none;\n",
              "      fill: #1967D2;\n",
              "      height: 32px;\n",
              "      padding: 0 0 0 0;\n",
              "      width: 32px;\n",
              "    }\n",
              "\n",
              "    .colab-df-convert:hover {\n",
              "      background-color: #E2EBFA;\n",
              "      box-shadow: 0px 1px 2px rgba(60, 64, 67, 0.3), 0px 1px 3px 1px rgba(60, 64, 67, 0.15);\n",
              "      fill: #174EA6;\n",
              "    }\n",
              "\n",
              "    [theme=dark] .colab-df-convert {\n",
              "      background-color: #3B4455;\n",
              "      fill: #D2E3FC;\n",
              "    }\n",
              "\n",
              "    [theme=dark] .colab-df-convert:hover {\n",
              "      background-color: #434B5C;\n",
              "      box-shadow: 0px 1px 3px 1px rgba(0, 0, 0, 0.15);\n",
              "      filter: drop-shadow(0px 1px 2px rgba(0, 0, 0, 0.3));\n",
              "      fill: #FFFFFF;\n",
              "    }\n",
              "  </style>\n",
              "\n",
              "      <script>\n",
              "        const buttonEl =\n",
              "          document.querySelector('#df-59267616-5903-4d01-a712-1a2c70afabbc button.colab-df-convert');\n",
              "        buttonEl.style.display =\n",
              "          google.colab.kernel.accessAllowed ? 'block' : 'none';\n",
              "\n",
              "        async function convertToInteractive(key) {\n",
              "          const element = document.querySelector('#df-59267616-5903-4d01-a712-1a2c70afabbc');\n",
              "          const dataTable =\n",
              "            await google.colab.kernel.invokeFunction('convertToInteractive',\n",
              "                                                     [key], {});\n",
              "          if (!dataTable) return;\n",
              "\n",
              "          const docLinkHtml = 'Like what you see? Visit the ' +\n",
              "            '<a target=\"_blank\" href=https://colab.research.google.com/notebooks/data_table.ipynb>data table notebook</a>'\n",
              "            + ' to learn more about interactive tables.';\n",
              "          element.innerHTML = '';\n",
              "          dataTable['output_type'] = 'display_data';\n",
              "          await google.colab.output.renderOutput(dataTable, element);\n",
              "          const docLink = document.createElement('div');\n",
              "          docLink.innerHTML = docLinkHtml;\n",
              "          element.appendChild(docLink);\n",
              "        }\n",
              "      </script>\n",
              "    </div>\n",
              "  </div>\n",
              "  "
            ],
            "text/plain": [
              "              HARGA           LT         JKT\n",
              "count  8.740000e+02   874.000000  874.000000\n",
              "mean   1.763365e+10   538.526316    4.491991\n",
              "std    2.178183e+10   556.316887    2.116440\n",
              "min    4.300000e+08    22.000000    1.000000\n",
              "25%    6.500000e+09   214.250000    4.000000\n",
              "50%    1.294500e+10   400.000000    4.000000\n",
              "75%    2.000000e+10   690.250000    5.000000\n",
              "max    2.500000e+11  6790.000000   27.000000"
            ]
          },
          "execution_count": 19,
          "metadata": {},
          "output_type": "execute_result"
        }
      ],
      "source": [
        "df.describe()"
      ]
    },
    {
      "cell_type": "code",
      "execution_count": null,
      "metadata": {
        "colab": {
          "base_uri": "https://localhost:8080/",
          "height": 699
        },
        "id": "fsZ4zRyA5hov",
        "outputId": "9a232309-a0ac-45c8-960f-0d06da7a283b"
      },
      "outputs": [
        {
          "data": {
            "image/png": "[encoded data removed]",
            "text/plain": [
              "<Figure size 1000x800 with 2 Axes>"
            ]
          },
          "metadata": {},
          "output_type": "display_data"
        }
      ],
      "source": [
        "# Menghitung matriks korelasi antara seluruh variabel numerik pada data\n",
        "corr_matrix = df.corr()\n",
        "\n",
        "# Menampilkan heatmap korelasi menggunakan Seaborn\n",
        "plt.figure(figsize=(10,8))\n",
        "sns.heatmap(corr_matrix, annot=True, cmap='coolwarm')\n",
        "plt.title('Korelasi Antara Variabel pada Data')\n",
        "plt.show()"
      ]
    },
    {
      "cell_type": "markdown",
      "metadata": {
        "id": "Y2HfH6_P6O1M"
      },
      "source": [
        "Angka-angka dalam kotak pada heatmap menunjukkan nilai korelasi antara dua variabel yang dihubungkan oleh kotak tersebut. Nilai korelasi dapat berkisar antara -1 hingga 1, di mana nilai -1 menunjukkan korelasi yang sempurna berbanding terbalik, nilai 0 menunjukkan tidak adanya korelasi, dan nilai 1 menunjukkan korelasi yang sempurna searah.\n",
        "\n",
        "Semakin dekat nilai korelasi dengan -1 atau 1, maka semakin kuat hubungan antara dua variabel tersebut. Sebaliknya, semakin dekat nilai korelasi dengan 0, maka semakin lemah atau tidak ada hubungan antara dua variabel tersebut.\n",
        "\n",
        "Selain itu, warna kotak pada heatmap juga menunjukkan kekuatan korelasi antara dua variabel, di mana warna merah menunjukkan korelasi positif yang kuat, warna biru menunjukkan korelasi negatif yang kuat, dan warna putih menunjukkan korelasi yang lemah atau tidak ada korelasi.\n",
        "\n",
        "Dari Heatmap kita dapat mengambil kesimpulan:\n",
        "Antara LT dengan HARGA (variabel dependen); nilainya 0.74 (mendekati 1) yang artinya adalah korelasi hampir sempurna searah yang artinya semakin tinggi LT maka semakin tinggi pula HARGA."
      ]
    },
    {
      "cell_type": "markdown",
      "metadata": {
        "id": "naYWfqED648O"
      },
      "source": [
        "Dari hasil analisis di atas, kita dapat menarik beberapa kesimpulan, di antaranya:\n",
        "\n",
        "* Sebaran setiap kolom dapat dilihat dari deskripsi statistik. Kita dapat mengetahui nilai rata-rata, nilai median, dan rentang dari setiap kolom.\n",
        "* Ada beberapa kolom yang memiliki korelasi yang kuat, seperti kolom LT dengan HARGA. Hal ini dapat dilihat dari heatmap korelasi.\n",
        "* Terlihat bahwa semakin besar LT, semakin tinggi jumlah HARGA. Hal ini menunjukkan adanya hubungan positif antara kedua variabel tersebut.\n",
        "* Korelasi antara kolom JKT dan HARGA cukup kuat (nilai korelasi sebesar 0.21). Hal ini menunjukkan adanya hubungan positif antara kedua variabel tersebut.\n",
        "Kesimpulan tersebut dapat membantu kita dalam memahami data yang digunakan dan memilih variabel yang tepat untuk digunakan sebagai input dalam model prediksi."
      ]
    },
    {
      "cell_type": "markdown",
      "metadata": {
        "id": "VSYmcD8UC7f6"
      },
      "source": [
        "##Model Testing"
      ]
    },
    {
      "cell_type": "code",
      "execution_count": null,
      "metadata": {
        "colab": {
          "base_uri": "https://localhost:8080/"
        },
        "id": "r5GGYS3hXNbC",
        "outputId": "365e85da-5b85-43ec-f621-774e7bfc397f"
      },
      "outputs": [
        {
          "name": "stdout",
          "output_type": "stream",
          "text": [
            "Variabel Independen (X):\n",
            "        LT  JKT\n",
            "0     1100    5\n",
            "1      824    4\n",
            "2      500    4\n",
            "3      251    5\n",
            "4     1340    4\n",
            "...    ...  ...\n",
            "996    488    6\n",
            "997    209    4\n",
            "998    692    4\n",
            "999    102    4\n",
            "1000    63    3\n",
            "\n",
            "[874 rows x 2 columns]\n",
            "Variabel Dependen (y):\n",
            "0       28000000000\n",
            "1       19000000000\n",
            "2        4700000000\n",
            "3        4900000000\n",
            "4       28000000000\n",
            "           ...     \n",
            "996     16000000000\n",
            "997      4500000000\n",
            "998     29000000000\n",
            "999      1700000000\n",
            "1000     1250000000\n",
            "Name: HARGA, Length: 874, dtype: int64\n"
          ]
        }
      ],
      "source": [
        "# mengambil kolom harga dan jumlah kamar tidur serta Luas tanah pada data frame\n",
        "X = df[['LT', 'JKT']]\n",
        "y = df['HARGA']\n",
        "\n",
        "\n",
        "# menampilkan X dan y\n",
        "print('Variabel Independen (X):')\n",
        "print(X)\n",
        "print('Variabel Dependen (y):')\n",
        "print(y)"
      ]
    },
    {
      "cell_type": "markdown",
      "metadata": {
        "id": "n5Xf3pXWFyv3"
      },
      "source": [
        "Membangun model Regresi Linear pada data Harga_Rumah dengan menggunakan library Scikit-Learn dengan model Train Test Split;\n",
        "\n",
        "Variabel independen (X) yang digunakan adalah LT dan JKT dan variabel dependen (y) yang digunakan adalah HARGA. Dataset kemudian dibagi menjadi data latih dan data uji menggunakan method train_test_split() dari Scikit-Learn dengan rasio data uji sebesar 20%. Selanjutnya, model Regresi Linear. Setelah itu, model digunakan untuk melakukan prediksi pada data uji menggunakan method predict(). Performa model kemudian dievaluasi dengan menghitung R2 Score menggunakan method r2_score() dari Scikit-Learn."
      ]
    },
    {
      "cell_type": "code",
      "execution_count": null,
      "metadata": {
        "colab": {
          "base_uri": "https://localhost:8080/"
        },
        "id": "CqpYwdZ-9H-8",
        "outputId": "f14f0c9c-2463-4616-d1f8-fa004854446a"
      },
      "outputs": [
        {
          "name": "stdout",
          "output_type": "stream",
          "text": [
            "Skor R2: 0.6398228156856696\n"
          ]
        }
      ],
      "source": [
        "from sklearn.metrics import r2_score\n",
        "# membagi data menjadi data latih dan data uji\n",
        "X_train, X_test, y_train, y_test = train_test_split(X, y, test_size=0.2, random_state=0)\n",
        "\n",
        "# melatih model Linear Regression\n",
        "regressor = LinearRegression()\n",
        "regressor.fit(X_train, y_train)\n",
        "\n",
        "# memprediksi harga rumah menggunakan data uji\n",
        "y_pred = regressor.predict(X_test)\n",
        "\n",
        "# evaluasi performa model\n",
        "score = r2_score(y_test, y_pred)\n",
        "\n",
        "print(f'Skor R2: {score}')"
      ]
    },
    {
      "cell_type": "markdown",
      "metadata": {
        "id": "ULPD1zTeCUil"
      },
      "source": [
        "Skor R2 (juga dikenal sebagai koefisien determinasi) adalah metrik yang umum digunakan untuk mengevaluasi performa model regresi.\n",
        "\n",
        "Skor R2 mengukur proporsi variasi variabel target (y) yang dapat dijelaskan oleh variabel independen (X) dalam model. Skor 1 menunjukkan kesesuaian yang sempurna, sementara skor 0 menunjukkan bahwa model tidak menjelaskan variasi dalam variabel target. Skor negatif menunjukkan bahwa model lebih buruk daripada hanya memprediksi nilai rata-rata variabel target.\n",
        "\n",
        "Di atas nilai Skor R2 = 0.639, bisa kita katakan skor lebih mendekati ke angka 1, yang artinya hampir menunjukkan kesesuaian sempurna.\n",
        "\n",
        "Sehingga bisa langsung kita buat modelnya."
      ]
    },
    {
      "cell_type": "markdown",
      "metadata": {
        "id": "DSKgcJdoDXg8"
      },
      "source": [
        "Karena Skor R2 cukup baik, saya akan menggunakannya untuk memprediksi harga rumah."
      ]
    },
    {
      "cell_type": "code",
      "execution_count": null,
      "metadata": {
        "colab": {
          "base_uri": "https://localhost:8080/"
        },
        "id": "W3fbrQ9yZJJz",
        "outputId": "c2d4f26d-b60b-420f-901c-488fa55ba12e"
      },
      "outputs": [
        {
          "name": "stdout",
          "output_type": "stream",
          "text": [
            "Hasil Prediksi: [1.58036547e+10 1.16114572e+10 6.52647108e+10 1.16695075e+10\n",
            " 4.74247375e+09 1.30376426e+10 1.52682975e+10 3.20456905e+10\n",
            " 5.84149636e+09 7.53679414e+09 1.69650291e+10 1.97296075e+10\n",
            " 2.79695936e+10 1.37217101e+10 1.18493937e+10 2.36272520e+10\n",
            " 1.05407428e+10 1.67554008e+10 1.90752820e+10 2.15141314e+10\n",
            " 4.67934539e+10 4.82167715e+10 4.69704724e+10 1.23847509e+10\n",
            " 1.75598704e+10 1.06299690e+10 7.44756794e+09 4.17594066e+09\n",
            " 5.96046463e+09 3.01393306e+10 1.17870419e+10 1.60924724e+10\n",
            " 2.04122411e+10 1.30985605e+10 2.16062253e+10 7.98292513e+09\n",
            " 1.20844626e+10 3.07835187e+09 7.65576240e+09 5.45278249e+10\n",
            " 2.61836358e+10 7.21106524e+09 2.08881142e+10 3.98889930e+10\n",
            " 8.33982993e+09 1.56846864e+10 2.66052911e+09 4.38556895e+09\n",
            " 1.45856638e+10 4.01624069e+10 2.20806645e+10 6.52699772e+09\n",
            " 7.06235491e+09 6.55530595e+09 4.88975025e+09 8.04240926e+09\n",
            " 8.01266720e+09 1.01243539e+10 2.36272520e+10 1.22360406e+10\n",
            " 1.30985605e+10 1.29767246e+10 2.30362432e+09 8.66699265e+09\n",
            " 2.11289184e+10 2.04391155e+10 5.15742884e+09 3.21320491e+10\n",
            " 2.79115433e+10 7.65719623e+09 2.77653323e+10 9.85667530e+09\n",
            " 7.32859967e+09 3.22212753e+10 1.51805052e+10 2.05283417e+10\n",
            " 7.21106524e+09 2.31202030e+10 6.79324248e+09 8.31008786e+09\n",
            " 1.03339822e+10 1.22940909e+10 1.98173998e+10 1.52980396e+10\n",
            " 2.93079866e+10 5.69278603e+09 1.50317948e+10 8.87375329e+09\n",
            " 2.60104498e+09 2.17775085e+10 4.80195788e+09 1.33959812e+10\n",
            " 2.15141314e+10 1.50601031e+10 2.30362432e+09 1.08069876e+10\n",
            " 1.66676085e+10 1.70811297e+10 2.36272520e+10 6.46751359e+09\n",
            " 6.46464592e+09 7.92137399e+10 1.30985605e+10 1.18493937e+10\n",
            " 4.71801007e+10 3.08545740e+10 9.82693324e+09 5.03989441e+09\n",
            " 2.30362432e+09 8.31008786e+09 1.16992496e+10 2.49470051e+10\n",
            " 3.53456260e+10 1.86603269e+10 1.15519731e+10 9.97564357e+09\n",
            " 9.85667530e+09 3.30866628e+10 1.08069876e+10 9.58899671e+09\n",
            " 3.20668296e+10 1.22576239e+11 1.87452516e+10 2.36310845e+09\n",
            " 3.99748826e+09 9.31845045e+09 1.19045764e+10 1.72624498e+10\n",
            " 1.18493937e+10 4.14763242e+09 2.41031250e+10 1.58631388e+10\n",
            " 5.30613917e+09 7.15014728e+09 2.27388225e+09 2.90091321e+10\n",
            " 4.78627344e+10 1.36324839e+10 6.94051898e+09 6.11060879e+09\n",
            " 8.66842648e+09 1.55062340e+10 1.02999386e+10 3.08531402e+10\n",
            " 1.45247459e+10 2.30362432e+09 1.48830845e+10 1.27713978e+10\n",
            " 1.16709413e+10 2.24956196e+10 1.76462290e+10 2.96337155e+10\n",
            " 4.50310338e+09 1.48236004e+10 1.63984960e+10 1.94931048e+10\n",
            " 2.38057044e+10 3.77547334e+10 1.59211891e+10 2.11260507e+10\n",
            " 2.35677678e+10 7.90650295e+10 4.35582689e+09 8.36957199e+09\n",
            " 1.19966702e+10 1.50020528e+10 7.50848590e+09 1.48830845e+10\n",
            " 1.24754110e+10 8.87375329e+09 2.85035170e+10 2.70432881e+10\n",
            " 6.09832871e+10 3.64201730e+09 8.24916990e+09]\n"
          ]
        }
      ],
      "source": [
        "# Pilih fitur yang akan digunakan sebagai variabel independen (X) dan variabel dependen (y)\n",
        "X = df[['LT', 'JKT']]\n",
        "y = df['HARGA']\n",
        "\n",
        "# Bagi dataset menjadi data latih dan data uji\n",
        "X_train, X_test, y_train, y_test = train_test_split(X, y, test_size=0.2, random_state=42)\n",
        "\n",
        "# Inisialisasi model Regresi Linear\n",
        "model = LinearRegression()\n",
        "\n",
        "# Latih model dengan data latih\n",
        "model.fit(X_train, y_train)\n",
        "\n",
        "# Buat prediksi menggunakan data uji\n",
        "y_pred = model.predict(X_test)\n",
        "print(\"Hasil Prediksi:\", y_pred)"
      ]
    },
    {
      "cell_type": "markdown",
      "metadata": {
        "id": "5iDruTokD4j9"
      },
      "source": [
        "Di atas ini adalah hasil prediksi harga-harga rumah."
      ]
    },
    {
      "cell_type": "markdown",
      "metadata": {
        "id": "-GRTK40GDlDb"
      },
      "source": [
        "Dan misal saya ingin membuat prediksi harga rumah dengan LT (luas tanah) dan JKT (jumlah kamar tidur) yang saya sesuaikan manual. Misal prediksi harga rumah yang muncul untuk luas tanah sebasar 500 m^2 dan jumlah kamar tidur sebanyak 4."
      ]
    },
    {
      "cell_type": "code",
      "execution_count": null,
      "metadata": {
        "colab": {
          "base_uri": "https://localhost:8080/"
        },
        "id": "wn27WrdDZeNC",
        "outputId": "d0d43fc6-f9cf-47a2-aa85-b279ec9fc812"
      },
      "outputs": [
        {
          "name": "stdout",
          "output_type": "stream",
          "text": [
            "[1.60727671e+10]\n"
          ]
        }
      ],
      "source": [
        "# melakukan prediksi pada data baru\n",
        "X_new = pd.DataFrame({'LT': [500], 'JKT': [4]})\n",
        "y_pred = model.predict(X_new)\n",
        "print(y_pred)"
      ]
    },
    {
      "cell_type": "markdown",
      "metadata": {
        "id": "KvOD1_ntEN2z"
      },
      "source": [
        "Prediksi harga rumah yang muncul ialah 1.6213526e+10 atau sama dengan  16.213.526.000 alias sekitar 16 milyar.\n",
        "\n",
        "Jika kita perhatikan dari data-data yang ada di atas tadi, hasil prediksi ini dapat dikatakan lumayan sesuai dan masuk akal."
      ]
    }
  ],
  "metadata": {
    "colab": {
      "provenance": []
    },
    "kernelspec": {
      "display_name": "Python 3",
      "name": "python3"
    },
    "language_info": {
      "name": "python"
    }
  },
  "nbformat": 4,
  "nbformat_minor": 0
}
